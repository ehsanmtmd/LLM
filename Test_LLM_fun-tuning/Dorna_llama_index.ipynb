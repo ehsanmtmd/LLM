{
 "cells": [
  {
   "cell_type": "code",
   "id": "initial_id",
   "metadata": {
    "collapsed": true,
    "ExecuteTime": {
     "end_time": "2025-01-29T10:21:15.420917Z",
     "start_time": "2025-01-29T10:21:12.050469Z"
    }
   },
   "source": [
    "from llama_index.core import SimpleDirectoryReader, Settings\n",
    "from llama_index.core.node_parser import SentenceSplitter\n",
    "from llama_index.core import VectorStoreIndex, SummaryIndex\n",
    "from llama_index.core.tools import QueryEngineTool\n",
    "from llama_index.core.objects import ObjectIndex\n",
    "from llama_index.core.agent import AgentRunner, FunctionCallingAgentWorker\n",
    "from llama_index.embeddings.huggingface import HuggingFaceEmbedding\n",
    "from llama_index.llms.ollama import Ollama\n",
    "import os\n",
    "\n",
    "DOCUMENT_PATHS = [\n",
    "    r'C:\\Users\\ASUS\\Downloads\\Hamrah.txt',\n",
    "    r'C:\\Users\\ASUS\\Downloads\\vape.txt',\n",
    "    r'C:\\Users\\ASUS\\Downloads\\Shah.txt',\n",
    "    r'C:\\Users\\ASUS\\Downloads\\Khalife.txt',\n",
    "    r'C:\\Users\\ASUS\\Downloads\\carbon.txt',\n",
    "    r'C:\\Users\\ASUS\\Downloads\\takapoo.txt'\n",
    "]\n",
    "\n",
    "EMBEDDING_MODEL = 'sentence-transformers/paraphrase-multilingual-mpnet-base-v2'\n",
    "CHUNK_SIZE = 1000\n",
    "OVERLAP = 200\n",
    "LLM_MODEL = 'partai/dorna-llama3'\n",
    "\n",
    "Settings.embed_model = HuggingFaceEmbedding(model_name=EMBEDDING_MODEL)\n",
    "Settings.llm = Ollama(model=LLM_MODEL, temperature=0.1)\n",
    "Settings.chunk_size = CHUNK_SIZE\n",
    "Settings.chunk_overlap = OVERLAP\n",
    "class PersianDocumentAgent:\n",
    "    def __init__(self):\n",
    "        self.splitter = SentenceSplitter(chunk_size=CHUNK_SIZE, chunk_overlap=OVERLAP)\n",
    "        self.tools = []  # Initialize tools as an empty list\n",
    "        self.agent = None  # Initialize agent as None\n",
    "        self.tools.extend()\n",
    "        self.tools.append()\n",
    "        self.initialized = False  # Initialize agent as None\n",
    "\n",
    "    def _process_document(self, path: str, doc_id: int):\n",
    "        \"\"\"Process individual document and create tools\"\"\"\n",
    "        documents = SimpleDirectoryReader(input_files=[path]).load_data()\n",
    "        nodes = self.splitter.get_nodes_from_documents(documents)\n",
    "\n",
    "        for node in nodes:\n",
    "            node.metadata.update({\n",
    "                \"doc_id\": doc_id,\n",
    "                \"doc_name\": os.path.basename(path)\n",
    "            })\n",
    "\n",
    "        vector_index = VectorStoreIndex(nodes)\n",
    "        summary_index = SummaryIndex(nodes)\n",
    "\n",
    "        vector_engine = vector_index.as_query_engine(\n",
    "            similarity_top_k=3,\n",
    "            response_mode=\"compact\"  # Better for local models\n",
    "        )\n",
    "\n",
    "        summary_engine = summary_index.as_query_engine(\n",
    "            response_mode=\"tree_summarize\",\n",
    "            use_async=False  # Disable async for local model stability\n",
    "        )\n",
    "\n",
    "        doc_name = os.path.basename(path).replace('.txt', '')\n",
    "        vector_tool = QueryEngineTool.from_defaults(\n",
    "            query_engine=vector_engine,\n",
    "            description=f\"ابزار بازیابی اطلاعات از سند {doc_name} (شناسه: {doc_id}). \"\n",
    "                        \"برای سوالات خاص درباره محتوای سند استفاده شود.\"\n",
    "        )\n",
    "\n",
    "        summary_tool = QueryEngineTool.from_defaults(\n",
    "            query_engine=summary_engine,\n",
    "            description=f\"ابزار خلاصه‌سازی سند {doc_name} (شناسه: {doc_id}). \"\n",
    "                        \"برای درخواست‌های کلی و خلاصه محتوا استفاده شود.\"\n",
    "        )\n",
    "\n",
    "        return [vector_tool, summary_tool]\n",
    "\n",
    "    def initialize_agent(self):\n",
    "        \"\"\"Initialize agent with all document tools\"\"\"\n",
    "        for doc_id, path in enumerate(DOCUMENT_PATHS):\n",
    "            self.tools.extend(self._process_document(path, doc_id))  # Ensure tools are populated\n",
    "\n",
    "        obj_index = ObjectIndex.from_objects(\n",
    "            self.tools,\n",
    "            index_cls=VectorStoreIndex,\n",
    "        )\n",
    "        obj_retriever = obj_index.as_retriever(similarity_top_k=2)  # Reduce for local model\n",
    "\n",
    "        agent_worker = FunctionCallingAgentWorker.from_tools(\n",
    "            tool_retriever=obj_retriever,\n",
    "            llm=Settings.llm,\n",
    "            system_prompt=\"\"\"\n",
    "            شما یک دستیار هوشمند فارسی هستید که باید به سوالات بر اساس اسناد ارائه شده پاسخ دهید.\n",
    "            همیشه از ابزارهای موجود برای پاسخ استفاده کنید.\n",
    "            پاسخ‌ها باید مختصر و دقیق باشد.\n",
    "            اگر پاسخی پیدا نشد عبارت 'پاسخی یافت نشد' را برگردانید.\n",
    "            \"\"\",\n",
    "            verbose=True\n",
    "        )\n",
    "        self.agent = AgentRunner(agent_worker)\n",
    "\n",
    "    def query_document(self, question: str, doc_id: int):\n",
    "        \"\"\"Execute a document-specific query\"\"\"\n",
    "        augmented_query = f\"{question} (مربوط به سند با شناسه {doc_id})\"\n",
    "        response = self.agent.query(augmented_query)\n",
    "        return str(response).strip()\n",
    "\n",
    "    doc_agent = PersianDocumentAgent()\n",
    "    doc_agent.initialize_agent()\n",
    "\n",
    "    queries = [\n",
    "        (\"چرا اینترنت همراه اول گوشی وصل نمیشود؟\", 0),\n",
    "        (\"چطوری ویپ مورد نظرمو پیدا کنم؟\", 1),\n",
    "        (\"شاه عباس که بود؟\", 2),\n",
    "        (\"خلیفه سلطان که بود و چه کرد؟\", 3),\n",
    "        (\"کربن اکتیو و کربن بلک چه هستند و چه تفاوتی دارند و برای چه استفاده میشن؟\", 4),\n",
    "        (\"شرکت تکاپو صنعت نامی چه محصولاتی ارایه میدهد؟ چه چیزی این شرکت را منحصر به فرد میسازد؟ سهام این شرکت صعودی است یا نزولی؟\", 5)\n",
    "    ]\n",
    "\n",
    "    with open(r'C:\\Users\\ASUS\\Downloads\\representation3.txt', 'w', encoding='utf-8') as f:\n",
    "        for q_idx, (query, doc_idx) in enumerate(queries):\n",
    "            answer = doc_agent.query_document(query, doc_idx)\n",
    "\n",
    "            f.write(f\"سوال {q_idx+1} ({doc_idx+1}):\\n{query}\\n\\nپاسخ:\\n{answer}\\n\\n{'='*50}\\n\\n\")\n",
    "            print(f\"پردازش سوال {q_idx+1}/{len(queries)} تکمیل شد\")\n",
    "\n",
    "    print(\"تمامی سوالات با موفقیت پردازش شدند!\")"
   ],
   "outputs": [
    {
     "ename": "AttributeError",
     "evalue": "'PersianDocumentAgent' object has no attribute 'tools'",
     "output_type": "error",
     "traceback": [
      "\u001B[1;31m---------------------------------------------------------------------------\u001B[0m",
      "\u001B[1;31mAttributeError\u001B[0m                            Traceback (most recent call last)",
      "Cell \u001B[1;32mIn[37], line 29\u001B[0m\n\u001B[0;32m     27\u001B[0m Settings\u001B[38;5;241m.\u001B[39mchunk_size \u001B[38;5;241m=\u001B[39m CHUNK_SIZE\n\u001B[0;32m     28\u001B[0m Settings\u001B[38;5;241m.\u001B[39mchunk_overlap \u001B[38;5;241m=\u001B[39m OVERLAP\n\u001B[1;32m---> 29\u001B[0m \u001B[38;5;28;01mclass\u001B[39;00m \u001B[38;5;21;01mPersianDocumentAgent\u001B[39;00m:\n\u001B[0;32m     30\u001B[0m     \u001B[38;5;28;01mdef\u001B[39;00m \u001B[38;5;21m__init__\u001B[39m(\u001B[38;5;28mself\u001B[39m):\n\u001B[0;32m     31\u001B[0m         \u001B[38;5;28mself\u001B[39m\u001B[38;5;241m.\u001B[39msplitter \u001B[38;5;241m=\u001B[39m SentenceSplitter(chunk_size\u001B[38;5;241m=\u001B[39mCHUNK_SIZE, chunk_overlap\u001B[38;5;241m=\u001B[39mOVERLAP)\n",
      "Cell \u001B[1;32mIn[37], line 108\u001B[0m, in \u001B[0;36mPersianDocumentAgent\u001B[1;34m()\u001B[0m\n\u001B[0;32m    105\u001B[0m     \u001B[38;5;28;01mreturn\u001B[39;00m \u001B[38;5;28mstr\u001B[39m(response)\u001B[38;5;241m.\u001B[39mstrip()\n\u001B[0;32m    107\u001B[0m doc_agent \u001B[38;5;241m=\u001B[39m PersianDocumentAgent()\n\u001B[1;32m--> 108\u001B[0m doc_agent\u001B[38;5;241m.\u001B[39minitialize_agent()\n\u001B[0;32m    110\u001B[0m queries \u001B[38;5;241m=\u001B[39m [\n\u001B[0;32m    111\u001B[0m     (\u001B[38;5;124m\"\u001B[39m\u001B[38;5;124mچرا اینترنت همراه اول گوشی وصل نمیشود؟\u001B[39m\u001B[38;5;124m\"\u001B[39m, \u001B[38;5;241m0\u001B[39m),\n\u001B[0;32m    112\u001B[0m     (\u001B[38;5;124m\"\u001B[39m\u001B[38;5;124mچطوری ویپ مورد نظرمو پیدا کنم؟\u001B[39m\u001B[38;5;124m\"\u001B[39m, \u001B[38;5;241m1\u001B[39m),\n\u001B[1;32m   (...)\u001B[0m\n\u001B[0;32m    116\u001B[0m     (\u001B[38;5;124m\"\u001B[39m\u001B[38;5;124mشرکت تکاپو صنعت نامی چه محصولاتی ارایه میدهد؟ چه چیزی این شرکت را منحصر به فرد میسازد؟ سهام این شرکت صعودی است یا نزولی؟\u001B[39m\u001B[38;5;124m\"\u001B[39m, \u001B[38;5;241m5\u001B[39m)\n\u001B[0;32m    117\u001B[0m ]\n\u001B[0;32m    119\u001B[0m \u001B[38;5;28;01mwith\u001B[39;00m \u001B[38;5;28mopen\u001B[39m(\u001B[38;5;124mr\u001B[39m\u001B[38;5;124m'\u001B[39m\u001B[38;5;124mC:\u001B[39m\u001B[38;5;124m\\\u001B[39m\u001B[38;5;124mUsers\u001B[39m\u001B[38;5;124m\\\u001B[39m\u001B[38;5;124mASUS\u001B[39m\u001B[38;5;124m\\\u001B[39m\u001B[38;5;124mDownloads\u001B[39m\u001B[38;5;124m\\\u001B[39m\u001B[38;5;124mrepresentation3.txt\u001B[39m\u001B[38;5;124m'\u001B[39m, \u001B[38;5;124m'\u001B[39m\u001B[38;5;124mw\u001B[39m\u001B[38;5;124m'\u001B[39m, encoding\u001B[38;5;241m=\u001B[39m\u001B[38;5;124m'\u001B[39m\u001B[38;5;124mutf-8\u001B[39m\u001B[38;5;124m'\u001B[39m) \u001B[38;5;28;01mas\u001B[39;00m f:\n",
      "Cell \u001B[1;32mIn[6], line 81\u001B[0m, in \u001B[0;36mPersianDocumentAgent.initialize_agent\u001B[1;34m(self)\u001B[0m\n\u001B[0;32m     79\u001B[0m \u001B[38;5;250m\u001B[39m\u001B[38;5;124;03m\"\"\"Initialize agent with all document tools\"\"\"\u001B[39;00m\n\u001B[0;32m     80\u001B[0m \u001B[38;5;28;01mfor\u001B[39;00m doc_id, path \u001B[38;5;129;01min\u001B[39;00m \u001B[38;5;28menumerate\u001B[39m(DOCUMENT_PATHS):\n\u001B[1;32m---> 81\u001B[0m     \u001B[38;5;28mself\u001B[39m\u001B[38;5;241m.\u001B[39mtools\u001B[38;5;241m.\u001B[39mextend(\u001B[38;5;28mself\u001B[39m\u001B[38;5;241m.\u001B[39m_process_document(path, doc_id))\n\u001B[0;32m     83\u001B[0m obj_index \u001B[38;5;241m=\u001B[39m ObjectIndex\u001B[38;5;241m.\u001B[39mfrom_objects(\n\u001B[0;32m     84\u001B[0m     \u001B[38;5;28mself\u001B[39m\u001B[38;5;241m.\u001B[39mtools,\n\u001B[0;32m     85\u001B[0m     index_cls\u001B[38;5;241m=\u001B[39mVectorStoreIndex,\n\u001B[0;32m     86\u001B[0m )\n\u001B[0;32m     87\u001B[0m obj_retriever \u001B[38;5;241m=\u001B[39m obj_index\u001B[38;5;241m.\u001B[39mas_retriever(similarity_top_k\u001B[38;5;241m=\u001B[39m\u001B[38;5;241m2\u001B[39m)  \u001B[38;5;66;03m# Reduce for local model\u001B[39;00m\n",
      "\u001B[1;31mAttributeError\u001B[0m: 'PersianDocumentAgent' object has no attribute 'tools'"
     ]
    }
   ],
   "execution_count": 37
  },
  {
   "metadata": {
    "ExecuteTime": {
     "end_time": "2025-01-29T10:19:55.538266Z",
     "start_time": "2025-01-29T10:19:55.532264Z"
    }
   },
   "cell_type": "code",
   "source": [
    "agent = PersianDocumentAgent()\n",
    "print(dir(agent))  # لیست تمام ویژگی‌ها و متدهای این آبجکت را نمایش می‌دهد\n",
    "# pip install --upgrade <PersianDocumentAgent>\n",
    "\n",
    "# tools = getattr(agent, 'tools', None)\n",
    "# if tools is None:\n",
    "#     print(\"ویژگی tools وجود ندارد!\")\n",
    "# else:\n",
    "#     print(\"ویژگی tools مقدار دارد:\", tools)\n",
    "#\n",
    "# doc_agent = PersianDocumentAgent()\n"
   ],
   "id": "8454f8407da00861",
   "outputs": [
    {
     "name": "stdout",
     "output_type": "stream",
     "text": [
      "['__class__', '__delattr__', '__dict__', '__dir__', '__doc__', '__eq__', '__format__', '__ge__', '__getattribute__', '__getstate__', '__gt__', '__hash__', '__init__', '__init_subclass__', '__le__', '__lt__', '__module__', '__ne__', '__new__', '__reduce__', '__reduce_ex__', '__repr__', '__setattr__', '__sizeof__', '__str__', '__subclasshook__', '__weakref__', '_process_document', 'init', 'initialize_agent', 'query_document']\n"
     ]
    }
   ],
   "execution_count": 35
  },
  {
   "metadata": {
    "ExecuteTime": {
     "end_time": "2025-01-29T09:29:20.245268Z",
     "start_time": "2025-01-29T09:29:20.214199Z"
    }
   },
   "cell_type": "code",
   "source": [
    "if name == \"main\":\n",
    "    doc_agent = PersianDocumentAgent()\n",
    "    doc_agent.initialize_agent()\n",
    "\n",
    "    queries = [\n",
    "        (\"چرا اینترنت همراه اول گوشی وصل نمیشود؟\", 0),\n",
    "        (\"چطوری ویپ مورد نظرمو پیدا کنم؟\", 1),\n",
    "        (\"شاه عباس که بود؟\", 2),\n",
    "        (\"خلیفه سلطان که بود و چه کرد؟\", 3),\n",
    "        (\"کربن اکتیو و کربن بلک چه هستند و چه تفاوتی دارند و برای چه استفاده میشن؟\", 4),\n",
    "        (\"شرکت تکاپو صنعت نامی چه محصولاتی ارایه میدهد؟ چه چیزی این شرکت را منحصر به فرد میسازد؟ سهام این شرکت صعودی است یا نزولی؟\", 5)\n",
    "    ]\n",
    "\n",
    "    with open(r'C:\\Users\\User\\Downloads\\Telegram Desktop\\data_llamaindex.txt', 'w', encoding='utf-8') as f:\n",
    "        for q_idx, (query, doc_idx) in enumerate(queries):\n",
    "            answer = doc_agent.query_document(query, doc_idx)\n",
    "\n",
    "            f.write(f\"سوال {q_idx+1} ({doc_idx+1}):\\n{query}\\n\\nپاسخ:\\n{answer}\\n\\n{'='*50}\\n\\n\")\n",
    "            print(f\"پردازش سوال {q_idx+1}/{len(queries)} تکمیل شد\")\n",
    "\n",
    "print(\"تمامی سوالات با موفقیت پردازش شدند!\")"
   ],
   "id": "d557964901d3b554",
   "outputs": [
    {
     "ename": "NameError",
     "evalue": "name 'name' is not defined",
     "output_type": "error",
     "traceback": [
      "\u001B[1;31m---------------------------------------------------------------------------\u001B[0m",
      "\u001B[1;31mNameError\u001B[0m                                 Traceback (most recent call last)",
      "Cell \u001B[1;32mIn[13], line 1\u001B[0m\n\u001B[1;32m----> 1\u001B[0m \u001B[38;5;28;01mif\u001B[39;00m name \u001B[38;5;241m==\u001B[39m \u001B[38;5;124m\"\u001B[39m\u001B[38;5;124mmain\u001B[39m\u001B[38;5;124m\"\u001B[39m:\n\u001B[0;32m      2\u001B[0m     doc_agent \u001B[38;5;241m=\u001B[39m PersianDocumentAgent()\n\u001B[0;32m      3\u001B[0m     doc_agent\u001B[38;5;241m.\u001B[39minitialize_agent()\n",
      "\u001B[1;31mNameError\u001B[0m: name 'name' is not defined"
     ]
    }
   ],
   "execution_count": 13
  },
  {
   "metadata": {
    "ExecuteTime": {
     "end_time": "2025-01-29T10:14:42.208812Z",
     "start_time": "2025-01-29T10:14:42.201775Z"
    }
   },
   "cell_type": "code",
   "source": [
    "class MyClass:\n",
    "    def __init__(self):\n",
    "        self.tools = []  # Initialize as an empty list\n",
    "\n",
    "    def add_tool(self, tool):\n",
    "        \"\"\"Add a tool to the tools list.\"\"\"\n",
    "        self.tools.append(tool)\n",
    "\n",
    "    def show_tools(self):\n",
    "        \"\"\"Print all tools.\"\"\"\n",
    "        print(\"Tools:\", self.tools)\n",
    "\n",
    "# Example Usage\n",
    "obj = MyClass()\n",
    "obj.add_tool(\"Hammer\")\n",
    "obj.add_tool(\"Screwdriver\")\n",
    "obj.show_tools()\n"
   ],
   "id": "8545e54a89fa4048",
   "outputs": [
    {
     "name": "stdout",
     "output_type": "stream",
     "text": [
      "Tools: ['Hammer', 'Screwdriver']\n"
     ]
    }
   ],
   "execution_count": 28
  },
  {
   "metadata": {
    "ExecuteTime": {
     "end_time": "2025-01-29T10:15:08.358370Z",
     "start_time": "2025-01-29T10:15:08.353542Z"
    }
   },
   "cell_type": "code",
   "source": [
    "\n",
    "agent = MyClass()\n",
    "print(dir(agent))"
   ],
   "id": "ed73fd2b5560c9d3",
   "outputs": [
    {
     "name": "stdout",
     "output_type": "stream",
     "text": [
      "['__class__', '__delattr__', '__dict__', '__dir__', '__doc__', '__eq__', '__format__', '__ge__', '__getattribute__', '__getstate__', '__gt__', '__hash__', '__init__', '__init_subclass__', '__le__', '__lt__', '__module__', '__ne__', '__new__', '__reduce__', '__reduce_ex__', '__repr__', '__setattr__', '__sizeof__', '__str__', '__subclasshook__', '__weakref__', 'add_tool', 'show_tools', 'tools']\n"
     ]
    }
   ],
   "execution_count": 30
  },
  {
   "metadata": {},
   "cell_type": "code",
   "outputs": [],
   "execution_count": null,
   "source": "",
   "id": "39bae754c70280d6"
  }
 ],
 "metadata": {
  "kernelspec": {
   "display_name": "Python 3",
   "language": "python",
   "name": "python3"
  },
  "language_info": {
   "codemirror_mode": {
    "name": "ipython",
    "version": 2
   },
   "file_extension": ".py",
   "mimetype": "text/x-python",
   "name": "python",
   "nbconvert_exporter": "python",
   "pygments_lexer": "ipython2",
   "version": "2.7.6"
  }
 },
 "nbformat": 4,
 "nbformat_minor": 5
}
