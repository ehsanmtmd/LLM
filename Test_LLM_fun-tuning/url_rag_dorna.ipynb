{
 "cells": [
  {
   "metadata": {
    "ExecuteTime": {
     "end_time": "2025-01-29T06:23:25.723446Z",
     "start_time": "2025-01-29T06:23:25.712453Z"
    }
   },
   "cell_type": "code",
   "source": [
    "from IPython.core.interactiveshell import InteractiveShell\n",
    "InteractiveShell.ast_node_interactivity = \"all\""
   ],
   "id": "bc84a20de7f4c95",
   "outputs": [],
   "execution_count": 5
  },
  {
   "metadata": {
    "collapsed": true,
    "ExecuteTime": {
     "end_time": "2025-01-29T07:37:30.323010Z",
     "start_time": "2025-01-29T07:32:21.401524Z"
    }
   },
   "cell_type": "code",
   "source": [
    "from ollama import chat, embeddings\n",
    "import numpy as np\n",
    "from sklearn.metrics.pairwise import cosine_similarity\n",
    "import requests\n",
    "from bs4 import BeautifulSoup\n",
    "\n",
    "# 1. Extract and preprocess content from URL\n",
    "def extract_content_from_url(url):\n",
    "    try:\n",
    "        response = requests.get(url)\n",
    "        response.raise_for_status()\n",
    "        soup = BeautifulSoup(response.text, 'html.parser')\n",
    "        content = soup.get_text()  # Extract plain text from the HTML\n",
    "        return content\n",
    "    except requests.exceptions.RequestException as e:\n",
    "        print(f\"Error fetching URL {url}: {e}\")\n",
    "        return \"\"\n",
    "\n",
    "\n",
    "# 4. Context retrieval system\n",
    "def find_relevant_chunks(query, top_k=3):\n",
    "    # Generate query embedding\n",
    "    query_embed = embeddings(model='partai/dorna-llama3', prompt=query)['embedding']\n",
    "\n",
    "    # Calculate similarities\n",
    "    scores = cosine_similarity([query_embed], chunk_embeddings)[0]\n",
    "\n",
    "    # Return top chunks\n",
    "    best_indices = np.argsort(scores)[-top_k:][::-1]\n",
    "    return \"\\n---\\n\".join([chunks[i] for i in best_indices])\n",
    "\n",
    "# 5. RAG-enhanced chat function\n",
    "def rag_chat(query):\n",
    "    # Retrieve context\n",
    "    context = find_relevant_chunks(query)\n",
    "\n",
    "    # Create augmented prompt\n",
    "    prompt = f\"\"\"Answer the question using this context:\n",
    "{context}\n",
    "\n",
    "Question: {query}\n",
    "Answer comprehensive in Persian:\"\"\"\n",
    "\n",
    "    # Get response\n",
    "    response = chat(model='partai/dorna-llama3', messages=[\n",
    "        {'role': 'user', 'content': prompt}\n",
    "    ])\n",
    "\n",
    "    return response['message']['content']\n",
    "\n",
    "# Example usage\n",
    "from datetime import datetime\n",
    "start = datetime.now()\n",
    "# Replace with the desired URL(s)\n",
    "urls = [\n",
    "    \"https://ensani.ir/fa/article/83978/%D8%AE%D9%84%DB%8C%D9%81%D9%87-%D8%B3%D9%84%D8%B7%D8%A7%D9%86-%D8%B3%D9%84%D8%B7%D8%A7%D9%86-%D8%A7%D9%84%D8%B9%D9%84%D9%85%D8%A7-%D9%81%D9%82%DB%8C%D9%87-%D9%88-%D9%88%D8%B2%DB%8C%D8%B1-%D8%A7%D8%B9%D8%B8%D9%85-%D8%B9%D8%B5%D8%B1-%D8%B5%D9%81%D9%88%D9%89\",\n",
    "    \"https://article.bsfe.ir/ArticleShow.aspx?rs=326\"\n",
    "]\n",
    "\n",
    "# Aggregate content from URLs\n",
    "text = \"\"\n",
    "for url in urls:\n",
    "    text += extract_content_from_url(url) + \"\\n\"\n",
    "\n",
    "# 2. Split with overlap\n",
    "chunk_size = 1000\n",
    "overlap = 200\n",
    "chunks = [text[i:i + chunk_size] for i in range(0, len(text), chunk_size - overlap)]\n",
    "\n",
    "# 3. Create embeddings using dorna-llama3\n",
    "chunk_embeddings = []\n",
    "for chunk in chunks:\n",
    "    response = embeddings(model='partai/dorna-llama3', prompt=chunk)\n",
    "    chunk_embeddings.append(response['embedding'])\n",
    "\n",
    "duration_text_extractor  = datetime.now() - start\n",
    "# Format timedelta without microseconds\n",
    "hours, remainder = divmod(duration_text_extractor.total_seconds(), 3600)\n",
    "minutes, seconds = divmod(remainder, 60)\n",
    "formatted_duration_text_extractor = f\"{int(hours):02}:{int(minutes):02}:{int(seconds):02}\"\n",
    "print('process text_extractor: ',formatted_duration_text_extractor)  # Output: 00:35:51\n",
    "\n",
    "response = rag_chat(\"خلیفه سلطان که بود و چه کرد؟\")\n",
    "\n",
    "duration  = datetime.now() - start\n",
    "# Format timedelta without microseconds\n",
    "hours, remainder = divmod(duration.total_seconds(), 3600)\n",
    "minutes, seconds = divmod(remainder, 60)\n",
    "formatted_duration = f\"{int(hours):02}:{int(minutes):02}:{int(seconds):02}\"\n",
    "print('Total process time: ',formatted_duration)  # Output: 00:35:51\n",
    "\n",
    "file_path = r'C:\\\\Users\\\\User\\\\Desktop\\\\LLM\\\\Test_LLM_fun-tuning\\\\output_url1_2_Dorna.txt'\n",
    "with open(file_path, 'w', encoding='utf-8') as f:\n",
    "    f.write(response + '\\n\\n')\n",
    "print(f\"Responses saved to {file_path}\")\n",
    "print(\"پاسخ:\", response)\n"
   ],
   "id": "initial_id",
   "outputs": [
    {
     "name": "stdout",
     "output_type": "stream",
     "text": [
      "process text_extractor:  00:02:30\n",
      "Total process time:  00:05:08\n"
     ]
    },
    {
     "data": {
      "text/plain": [
       "1038"
      ]
     },
     "execution_count": 19,
     "metadata": {},
     "output_type": "execute_result"
    },
    {
     "name": "stdout",
     "output_type": "stream",
     "text": [
      "Responses saved to C:\\\\Users\\\\User\\\\Desktop\\\\LLM\\\\Test_LLM_fun-tuning\\\\output_url1_2_Dorna.txt\n",
      "پاسخ: خلیفه سلطان، یکی از علما و دانشمندان معروف عصر خویش بود. او در رشته‌های مختلف علمی، مانند حساب و شاعری، مهارت داشت و آثار ادبی بسیاری به جا گذاشت. همچنین، او عاشق مطالعه بود و همه عمر خود را صرف خواندن و بحث کردن نمود.\n",
      "\n",
      "او برای مدتی وزیر اعظم شد و با نقش مهمی در حکومت صفوی فعالیت کرد. انتخاب خلیفه سلطان به وزارت نیز به این دلیل بود که او از میان سادات و فقهای شهیر عصر شاه عباس اول انتخاب شده بود. بنابراین، انتخاب وی به عنوان وزیر اعظم، نشانه استحکام و استمرار دولت صفوی بود.\n",
      "\n",
      "خلیفه سلطان فردی عالم و روحانی بود که علاوه بر فعالیت‌های سیاسی و حکومتی، در امور نظامی و لشکری نیز نقش مهمی داشت. او نقش مؤثری در قضیه فتح قندهار داشته بود و شاید انتصاب وی به وزارت با قضیه فتح قندهار ارتباط داشته باشد.\n",
      "\n",
      "در واقع، خلیفه سلطان از آن دسته افراد خاصی بود که علاوه بر فعالیت‌های سیاسی و حکومتی، آثار ادبی و تاریخی مهمی نیز به جا گذاشت. او نه تنها فردی عالم و روحانی بود بلکه همچنین یک شاعر و منشی برجسته عصر صفوی بود که در خدمت دستگاه حکومتی قرار گرفت. بنابراین، انتخاب وی به عنوان وزیر اعظم نشانه توجه شاه عباس اول به فرهنگ و ادبیات کشور بود.\n"
     ]
    }
   ],
   "execution_count": 19
  },
  {
   "metadata": {},
   "cell_type": "code",
   "outputs": [],
   "execution_count": null,
   "source": "",
   "id": "bc502bac16471dc"
  }
 ],
 "metadata": {
  "kernelspec": {
   "display_name": "Python 3",
   "language": "python",
   "name": "python3"
  },
  "language_info": {
   "codemirror_mode": {
    "name": "ipython",
    "version": 2
   },
   "file_extension": ".py",
   "mimetype": "text/x-python",
   "name": "python",
   "nbconvert_exporter": "python",
   "pygments_lexer": "ipython2",
   "version": "2.7.6"
  }
 },
 "nbformat": 4,
 "nbformat_minor": 5
}
