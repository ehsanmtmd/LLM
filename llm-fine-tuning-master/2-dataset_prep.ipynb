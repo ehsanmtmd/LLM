{
 "cells": [
  {
   "cell_type": "code",
   "metadata": {
    "ExecuteTime": {
     "end_time": "2025-01-15T08:41:57.272027Z",
     "start_time": "2025-01-15T08:41:57.258017Z"
    }
   },
   "source": [
    "instruction = f\"You are an intelligent translator specializing in translating technical texts from English to Farsi. Please follow these steps to translate the provided English texts to Farsi: 1. Thoroughly understand the given text. 2. Translate the content into fluent Farsi, preserving the original structure and flow. 3. Tailor the translation for software engineers by keeping the technical and programming terms in English, enclosed in backticks (e.g., GPT-3). 4. You can include additional explanations in Farsi for clarity, if needed. 5. If you encounter a block of text enclosed in triple backticks, do not translate it; keep it as it is in your translation. 6. Review your translation to ensure you followed the steps. If the translated text is not fluent Farsi, revise it. 7. Your output should only include the very final version and formatted translation.\""
   ],
   "outputs": [],
   "execution_count": 1
  },
  {
   "cell_type": "code",
   "metadata": {
    "ExecuteTime": {
     "end_time": "2025-01-15T08:46:45.432053Z",
     "start_time": "2025-01-15T08:46:45.410028Z"
    }
   },
   "source": [
    "training_data = []\n",
    "\n",
    "file_path = \"few-shots.txt\"\n",
    "with open(file_path, \"r\", encoding='utf-8') as file:\n",
    "    lines = file.readlines()\n",
    "\n",
    "# remove the empty lines\n",
    "lines = [line.strip() for line in lines if line.strip()]\n",
    "\n",
    "# read every two lines (EN, FA) together\n",
    "for i in range(0, len(lines), 2):\n",
    "    if i + 1 < len(lines):\n",
    "        if \"English:\" not in lines[i].strip():\n",
    "            raise RuntimeError(f\"Line does not start with 'English: ', {lines[i]}\")\n",
    "        if \"Farsi:\" not in lines[i+1].strip():\n",
    "            raise RuntimeError(f\"Line does not start with 'Farsi: ', {lines[i+1]}\")\n",
    "        # \\u200c\n",
    "        prompt = lines[i].strip().replace(\"English: \", \"\").replace(\"\\\"\", \"'\")\n",
    "        response = lines[i+1].strip().replace(\"Farsi: \", \"\").replace(\"\\\"\", \"'\")\n",
    "        training_data.append({\"messages\": [{\"role\": \"system\", \"content\":f\"{instruction}\"}, {\"role\": \"user\", \"content\":f\"{prompt}\"}, {\"role\": \"assistant\", \"content\":f\"{response}\"}]})"
   ],
   "outputs": [],
   "execution_count": 2
  },
  {
   "cell_type": "code",
   "metadata": {
    "ExecuteTime": {
     "end_time": "2025-01-15T08:46:47.202294Z",
     "start_time": "2025-01-15T08:46:47.006212Z"
    }
   },
   "source": [
    "import json\n",
    "\n",
    "with open(\"training_dataset.jsonl\", \"w\") as file:\n",
    "    for sample in training_data:\n",
    "        file.write(json.dumps(sample, ensure_ascii=False) + '\\n')\n"
   ],
   "outputs": [
    {
     "ename": "UnicodeEncodeError",
     "evalue": "'charmap' codec can't encode characters in position 1295-1296: character maps to <undefined>",
     "output_type": "error",
     "traceback": [
      "\u001B[1;31m---------------------------------------------------------------------------\u001B[0m",
      "\u001B[1;31mUnicodeEncodeError\u001B[0m                        Traceback (most recent call last)",
      "\u001B[1;32m<ipython-input-3-cbb64d443cf9>\u001B[0m in \u001B[0;36m<module>\u001B[1;34m\u001B[0m\n\u001B[0;32m      3\u001B[0m \u001B[1;32mwith\u001B[0m \u001B[0mopen\u001B[0m\u001B[1;33m(\u001B[0m\u001B[1;34m\"training_dataset.jsonl\"\u001B[0m\u001B[1;33m,\u001B[0m \u001B[1;34m\"w\"\u001B[0m\u001B[1;33m)\u001B[0m \u001B[1;32mas\u001B[0m \u001B[0mfile\u001B[0m\u001B[1;33m:\u001B[0m\u001B[1;33m\u001B[0m\u001B[1;33m\u001B[0m\u001B[0m\n\u001B[0;32m      4\u001B[0m     \u001B[1;32mfor\u001B[0m \u001B[0msample\u001B[0m \u001B[1;32min\u001B[0m \u001B[0mtraining_data\u001B[0m\u001B[1;33m:\u001B[0m\u001B[1;33m\u001B[0m\u001B[1;33m\u001B[0m\u001B[0m\n\u001B[1;32m----> 5\u001B[1;33m         \u001B[0mfile\u001B[0m\u001B[1;33m.\u001B[0m\u001B[0mwrite\u001B[0m\u001B[1;33m(\u001B[0m\u001B[0mjson\u001B[0m\u001B[1;33m.\u001B[0m\u001B[0mdumps\u001B[0m\u001B[1;33m(\u001B[0m\u001B[0msample\u001B[0m\u001B[1;33m,\u001B[0m \u001B[0mensure_ascii\u001B[0m\u001B[1;33m=\u001B[0m\u001B[1;32mFalse\u001B[0m\u001B[1;33m)\u001B[0m \u001B[1;33m+\u001B[0m \u001B[1;34m'\\n'\u001B[0m\u001B[1;33m)\u001B[0m\u001B[1;33m\u001B[0m\u001B[1;33m\u001B[0m\u001B[0m\n\u001B[0m\u001B[0;32m      6\u001B[0m \u001B[1;33m\u001B[0m\u001B[0m\n",
      "\u001B[1;32mC:\\ProgramData\\Anaconda3\\lib\\encodings\\cp1252.py\u001B[0m in \u001B[0;36mencode\u001B[1;34m(self, input, final)\u001B[0m\n\u001B[0;32m     17\u001B[0m \u001B[1;32mclass\u001B[0m \u001B[0mIncrementalEncoder\u001B[0m\u001B[1;33m(\u001B[0m\u001B[0mcodecs\u001B[0m\u001B[1;33m.\u001B[0m\u001B[0mIncrementalEncoder\u001B[0m\u001B[1;33m)\u001B[0m\u001B[1;33m:\u001B[0m\u001B[1;33m\u001B[0m\u001B[1;33m\u001B[0m\u001B[0m\n\u001B[0;32m     18\u001B[0m     \u001B[1;32mdef\u001B[0m \u001B[0mencode\u001B[0m\u001B[1;33m(\u001B[0m\u001B[0mself\u001B[0m\u001B[1;33m,\u001B[0m \u001B[0minput\u001B[0m\u001B[1;33m,\u001B[0m \u001B[0mfinal\u001B[0m\u001B[1;33m=\u001B[0m\u001B[1;32mFalse\u001B[0m\u001B[1;33m)\u001B[0m\u001B[1;33m:\u001B[0m\u001B[1;33m\u001B[0m\u001B[1;33m\u001B[0m\u001B[0m\n\u001B[1;32m---> 19\u001B[1;33m         \u001B[1;32mreturn\u001B[0m \u001B[0mcodecs\u001B[0m\u001B[1;33m.\u001B[0m\u001B[0mcharmap_encode\u001B[0m\u001B[1;33m(\u001B[0m\u001B[0minput\u001B[0m\u001B[1;33m,\u001B[0m\u001B[0mself\u001B[0m\u001B[1;33m.\u001B[0m\u001B[0merrors\u001B[0m\u001B[1;33m,\u001B[0m\u001B[0mencoding_table\u001B[0m\u001B[1;33m)\u001B[0m\u001B[1;33m[\u001B[0m\u001B[1;36m0\u001B[0m\u001B[1;33m]\u001B[0m\u001B[1;33m\u001B[0m\u001B[1;33m\u001B[0m\u001B[0m\n\u001B[0m\u001B[0;32m     20\u001B[0m \u001B[1;33m\u001B[0m\u001B[0m\n\u001B[0;32m     21\u001B[0m \u001B[1;32mclass\u001B[0m \u001B[0mIncrementalDecoder\u001B[0m\u001B[1;33m(\u001B[0m\u001B[0mcodecs\u001B[0m\u001B[1;33m.\u001B[0m\u001B[0mIncrementalDecoder\u001B[0m\u001B[1;33m)\u001B[0m\u001B[1;33m:\u001B[0m\u001B[1;33m\u001B[0m\u001B[1;33m\u001B[0m\u001B[0m\n",
      "\u001B[1;31mUnicodeEncodeError\u001B[0m: 'charmap' codec can't encode characters in position 1295-1296: character maps to <undefined>"
     ]
    }
   ],
   "execution_count": 3
  },
  {
   "metadata": {},
   "cell_type": "code",
   "outputs": [],
   "execution_count": null,
   "source": ""
  }
 ],
 "metadata": {
  "kernelspec": {
   "display_name": ".venv",
   "language": "python",
   "name": "python3"
  },
  "language_info": {
   "codemirror_mode": {
    "name": "ipython",
    "version": 3
   },
   "file_extension": ".py",
   "mimetype": "text/x-python",
   "name": "python",
   "nbconvert_exporter": "python",
   "pygments_lexer": "ipython3",
   "version": "3.12.4"
  }
 },
 "nbformat": 4,
 "nbformat_minor": 2
}
