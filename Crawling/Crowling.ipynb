{
 "cells": [
  {
   "cell_type": "code",
   "id": "initial_id",
   "metadata": {
    "collapsed": true,
    "ExecuteTime": {
     "end_time": "2025-02-12T08:01:15.799230Z",
     "start_time": "2025-02-12T08:01:09.167212Z"
    }
   },
   "source": [
    "from selenium import webdriver\n",
    "from selenium.webdriver.chrome.service import Service\n",
    "from selenium.webdriver.common.by import By\n",
    "\n",
    "\n",
    "service = Service('chromedriver.exe')\n",
    "driver = webdriver.Chrome(service=service)\n",
    "\n",
    "# driver.get('https://example.com')\n",
    "# driver.get('https://zoodkomak.com/blog/pages/FreeContent/Adsl-disconnection-problem')\n",
    "driver.get('https://facebook.com')\n",
    "\n",
    "user_name = element = driver.find_element(By.ID, 'email')\n",
    "user_name.send_keys('ehsanmotamedi12345@yahoo.com')\n",
    "\n",
    "password = element = driver.find_element(By.ID, 'pass')\n",
    "password.send_keys('1234576')\n",
    "\n",
    "btnlogin = driver.find_element(By.NAME, 'login')\n",
    "btnlogin.click()\n",
    "\n",
    "# print(element.text)  # Extract text content\n",
    "\n",
    "elements = driver.find_elements(By.CLASS_NAME, 'class_name')\n",
    "for element in elements:\n",
    "    print(element.text)\n",
    "\n",
    "button = driver.find_element(By.NAME, 'button_name')\n",
    "button.click()\n",
    "\n",
    "\n"
   ],
   "outputs": [
    {
     "ename": "ElementClickInterceptedException",
     "evalue": "Message: element click intercepted: Element <button value=\"1\" class=\"_42ft _4jy0 _52e0 _4jy6 _4jy1 selected _51sy\" id=\"loginbutton\" name=\"login\" tabindex=\"0\" type=\"submit\">...</button> is not clickable at point (509, 432). Other element would receive the click: <span class=\"x193iq5w xeuugli x13faqbe x1vvkbs x1xmvt09 x1lliihq x1s928wv xhkezso x1gmr53x x1cpjm7i x1fgarty x1943h6x xudqn12 x3x7a5m x6prxxf xvq8zen xo1l8bm xzsf02u\" dir=\"auto\">...</span>\n  (Session info: chrome=132.0.6834.196)\nStacktrace:\n\tGetHandleVerifier [0x00007FF6FB7FFBE5+28741]\n\t(No symbol) [0x00007FF6FB767890]\n\t(No symbol) [0x00007FF6FB604FDA]\n\t(No symbol) [0x00007FF6FB661048]\n\t(No symbol) [0x00007FF6FB65EA92]\n\t(No symbol) [0x00007FF6FB65BBA1]\n\t(No symbol) [0x00007FF6FB65AB01]\n\t(No symbol) [0x00007FF6FB64C574]\n\t(No symbol) [0x00007FF6FB67FF0A]\n\t(No symbol) [0x00007FF6FB64BE46]\n\t(No symbol) [0x00007FF6FB680120]\n\t(No symbol) [0x00007FF6FB6A00B4]\n\t(No symbol) [0x00007FF6FB67FCB3]\n\t(No symbol) [0x00007FF6FB649FB3]\n\t(No symbol) [0x00007FF6FB64B331]\n\tGetHandleVerifier [0x00007FF6FBB3A73D+3414941]\n\tGetHandleVerifier [0x00007FF6FBB4E64A+3496618]\n\tGetHandleVerifier [0x00007FF6FBB4413D+3454365]\n\tGetHandleVerifier [0x00007FF6FB8C848B+850155]\n\t(No symbol) [0x00007FF6FB7737FF]\n\t(No symbol) [0x00007FF6FB76F0C4]\n\t(No symbol) [0x00007FF6FB76F25D]\n\t(No symbol) [0x00007FF6FB75E079]\n\tBaseThreadInitThunk [0x00007FFDC075E8D7+23]\n\tRtlUserThreadStart [0x00007FFDC219FBCC+44]\n",
     "output_type": "error",
     "traceback": [
      "\u001B[1;31m---------------------------------------------------------------------------\u001B[0m",
      "\u001B[1;31mElementClickInterceptedException\u001B[0m          Traceback (most recent call last)",
      "Cell \u001B[1;32mIn[3], line 20\u001B[0m\n\u001B[0;32m     17\u001B[0m password\u001B[38;5;241m.\u001B[39msend_keys(\u001B[38;5;124m'\u001B[39m\u001B[38;5;124m1234576\u001B[39m\u001B[38;5;124m'\u001B[39m)\n\u001B[0;32m     19\u001B[0m btnlogin \u001B[38;5;241m=\u001B[39m driver\u001B[38;5;241m.\u001B[39mfind_element(By\u001B[38;5;241m.\u001B[39mNAME, \u001B[38;5;124m'\u001B[39m\u001B[38;5;124mlogin\u001B[39m\u001B[38;5;124m'\u001B[39m)\n\u001B[1;32m---> 20\u001B[0m btnlogin\u001B[38;5;241m.\u001B[39mclick()\n\u001B[0;32m     22\u001B[0m \u001B[38;5;66;03m# print(element.text)  # Extract text content\u001B[39;00m\n\u001B[0;32m     24\u001B[0m elements \u001B[38;5;241m=\u001B[39m driver\u001B[38;5;241m.\u001B[39mfind_elements(By\u001B[38;5;241m.\u001B[39mCLASS_NAME, \u001B[38;5;124m'\u001B[39m\u001B[38;5;124mclass_name\u001B[39m\u001B[38;5;124m'\u001B[39m)\n",
      "File \u001B[1;32m~\\anaconda3\\Lib\\site-packages\\selenium\\webdriver\\remote\\webelement.py:119\u001B[0m, in \u001B[0;36mWebElement.click\u001B[1;34m(self)\u001B[0m\n\u001B[0;32m    111\u001B[0m \u001B[38;5;28;01mdef\u001B[39;00m \u001B[38;5;21mclick\u001B[39m(\u001B[38;5;28mself\u001B[39m) \u001B[38;5;241m-\u001B[39m\u001B[38;5;241m>\u001B[39m \u001B[38;5;28;01mNone\u001B[39;00m:\n\u001B[0;32m    112\u001B[0m \u001B[38;5;250m    \u001B[39m\u001B[38;5;124;03m\"\"\"Clicks the element.\u001B[39;00m\n\u001B[0;32m    113\u001B[0m \n\u001B[0;32m    114\u001B[0m \u001B[38;5;124;03m    Example:\u001B[39;00m\n\u001B[1;32m   (...)\u001B[0m\n\u001B[0;32m    117\u001B[0m \u001B[38;5;124;03m    >>> element.click()\u001B[39;00m\n\u001B[0;32m    118\u001B[0m \u001B[38;5;124;03m    \"\"\"\u001B[39;00m\n\u001B[1;32m--> 119\u001B[0m     \u001B[38;5;28mself\u001B[39m\u001B[38;5;241m.\u001B[39m_execute(Command\u001B[38;5;241m.\u001B[39mCLICK_ELEMENT)\n",
      "File \u001B[1;32m~\\anaconda3\\Lib\\site-packages\\selenium\\webdriver\\remote\\webelement.py:570\u001B[0m, in \u001B[0;36mWebElement._execute\u001B[1;34m(self, command, params)\u001B[0m\n\u001B[0;32m    568\u001B[0m     params \u001B[38;5;241m=\u001B[39m {}\n\u001B[0;32m    569\u001B[0m params[\u001B[38;5;124m\"\u001B[39m\u001B[38;5;124mid\u001B[39m\u001B[38;5;124m\"\u001B[39m] \u001B[38;5;241m=\u001B[39m \u001B[38;5;28mself\u001B[39m\u001B[38;5;241m.\u001B[39m_id\n\u001B[1;32m--> 570\u001B[0m \u001B[38;5;28;01mreturn\u001B[39;00m \u001B[38;5;28mself\u001B[39m\u001B[38;5;241m.\u001B[39m_parent\u001B[38;5;241m.\u001B[39mexecute(command, params)\n",
      "File \u001B[1;32m~\\anaconda3\\Lib\\site-packages\\selenium\\webdriver\\remote\\webdriver.py:429\u001B[0m, in \u001B[0;36mWebDriver.execute\u001B[1;34m(self, driver_command, params)\u001B[0m\n\u001B[0;32m    427\u001B[0m response \u001B[38;5;241m=\u001B[39m \u001B[38;5;28mself\u001B[39m\u001B[38;5;241m.\u001B[39mcommand_executor\u001B[38;5;241m.\u001B[39mexecute(driver_command, params)\n\u001B[0;32m    428\u001B[0m \u001B[38;5;28;01mif\u001B[39;00m response:\n\u001B[1;32m--> 429\u001B[0m     \u001B[38;5;28mself\u001B[39m\u001B[38;5;241m.\u001B[39merror_handler\u001B[38;5;241m.\u001B[39mcheck_response(response)\n\u001B[0;32m    430\u001B[0m     response[\u001B[38;5;124m\"\u001B[39m\u001B[38;5;124mvalue\u001B[39m\u001B[38;5;124m\"\u001B[39m] \u001B[38;5;241m=\u001B[39m \u001B[38;5;28mself\u001B[39m\u001B[38;5;241m.\u001B[39m_unwrap_value(response\u001B[38;5;241m.\u001B[39mget(\u001B[38;5;124m\"\u001B[39m\u001B[38;5;124mvalue\u001B[39m\u001B[38;5;124m\"\u001B[39m, \u001B[38;5;28;01mNone\u001B[39;00m))\n\u001B[0;32m    431\u001B[0m     \u001B[38;5;28;01mreturn\u001B[39;00m response\n",
      "File \u001B[1;32m~\\anaconda3\\Lib\\site-packages\\selenium\\webdriver\\remote\\errorhandler.py:232\u001B[0m, in \u001B[0;36mErrorHandler.check_response\u001B[1;34m(self, response)\u001B[0m\n\u001B[0;32m    230\u001B[0m         alert_text \u001B[38;5;241m=\u001B[39m value[\u001B[38;5;124m\"\u001B[39m\u001B[38;5;124malert\u001B[39m\u001B[38;5;124m\"\u001B[39m]\u001B[38;5;241m.\u001B[39mget(\u001B[38;5;124m\"\u001B[39m\u001B[38;5;124mtext\u001B[39m\u001B[38;5;124m\"\u001B[39m)\n\u001B[0;32m    231\u001B[0m     \u001B[38;5;28;01mraise\u001B[39;00m exception_class(message, screen, stacktrace, alert_text)  \u001B[38;5;66;03m# type: ignore[call-arg]  # mypy is not smart enough here\u001B[39;00m\n\u001B[1;32m--> 232\u001B[0m \u001B[38;5;28;01mraise\u001B[39;00m exception_class(message, screen, stacktrace)\n",
      "\u001B[1;31mElementClickInterceptedException\u001B[0m: Message: element click intercepted: Element <button value=\"1\" class=\"_42ft _4jy0 _52e0 _4jy6 _4jy1 selected _51sy\" id=\"loginbutton\" name=\"login\" tabindex=\"0\" type=\"submit\">...</button> is not clickable at point (509, 432). Other element would receive the click: <span class=\"x193iq5w xeuugli x13faqbe x1vvkbs x1xmvt09 x1lliihq x1s928wv xhkezso x1gmr53x x1cpjm7i x1fgarty x1943h6x xudqn12 x3x7a5m x6prxxf xvq8zen xo1l8bm xzsf02u\" dir=\"auto\">...</span>\n  (Session info: chrome=132.0.6834.196)\nStacktrace:\n\tGetHandleVerifier [0x00007FF6FB7FFBE5+28741]\n\t(No symbol) [0x00007FF6FB767890]\n\t(No symbol) [0x00007FF6FB604FDA]\n\t(No symbol) [0x00007FF6FB661048]\n\t(No symbol) [0x00007FF6FB65EA92]\n\t(No symbol) [0x00007FF6FB65BBA1]\n\t(No symbol) [0x00007FF6FB65AB01]\n\t(No symbol) [0x00007FF6FB64C574]\n\t(No symbol) [0x00007FF6FB67FF0A]\n\t(No symbol) [0x00007FF6FB64BE46]\n\t(No symbol) [0x00007FF6FB680120]\n\t(No symbol) [0x00007FF6FB6A00B4]\n\t(No symbol) [0x00007FF6FB67FCB3]\n\t(No symbol) [0x00007FF6FB649FB3]\n\t(No symbol) [0x00007FF6FB64B331]\n\tGetHandleVerifier [0x00007FF6FBB3A73D+3414941]\n\tGetHandleVerifier [0x00007FF6FBB4E64A+3496618]\n\tGetHandleVerifier [0x00007FF6FBB4413D+3454365]\n\tGetHandleVerifier [0x00007FF6FB8C848B+850155]\n\t(No symbol) [0x00007FF6FB7737FF]\n\t(No symbol) [0x00007FF6FB76F0C4]\n\t(No symbol) [0x00007FF6FB76F25D]\n\t(No symbol) [0x00007FF6FB75E079]\n\tBaseThreadInitThunk [0x00007FFDC075E8D7+23]\n\tRtlUserThreadStart [0x00007FFDC219FBCC+44]\n"
     ]
    }
   ],
   "execution_count": 3
  },
  {
   "metadata": {
    "ExecuteTime": {
     "end_time": "2025-02-12T08:49:27.367537Z",
     "start_time": "2025-02-12T08:49:14.691158Z"
    }
   },
   "cell_type": "code",
   "source": [
    "import requests\n",
    "from bs4 import BeautifulSoup\n",
    "from serpapi import GoogleSearch\n",
    "\n",
    "def search_google(query, api_key, num_results=5):\n",
    "    params = {\n",
    "        \"q\": query,\n",
    "        \"num\": num_results,\n",
    "        \"api_key\": api_key\n",
    "    }\n",
    "    search = GoogleSearch(params)\n",
    "    results = search.get_dict()\n",
    "    return [result[\"link\"] for result in results.get(\"organic_results\", [])]\n",
    "\n",
    "def crawl_website(url):\n",
    "    try:\n",
    "        headers = {\"User-Agent\": \"Mozilla/5.0\"}\n",
    "        response = requests.get(url, headers=headers, timeout=5)\n",
    "        response.raise_for_status()\n",
    "        soup = BeautifulSoup(response.text, \"html.parser\")\n",
    "        text = \" \".join([p.get_text() for p in soup.find_all(\"p\")])\n",
    "        return text\n",
    "    except requests.RequestException as e:\n",
    "        print(f\"Error crawling {url}: {e}\")\n",
    "        return None\n",
    "\n",
    "def main():\n",
    "    query = input(\"Enter your question: \")\n",
    "    api_key = \"YOUR_SERPAPI_KEY\"  # جایگزین کن با API Key خودت\n",
    "    urls = search_google(query, api_key)\n",
    "\n",
    "    data = {}\n",
    "    for url in urls:\n",
    "        print(f\"Crawling: {url}\")\n",
    "        text = crawl_website(url)\n",
    "        if text:\n",
    "            data[url] = text[:500]  # ذخیره‌ی ۵۰۰ کاراکتر اول هر صفحه برای تست\n",
    "\n",
    "    print(\"\\nExtracted Data:\")\n",
    "    for url, content in data.items():\n",
    "        print(f\"\\n{url}:\\n{content}...\")\n",
    "\n",
    "if __name__ == \"__main__\":\n",
    "    main()\n"
   ],
   "id": "2be314512c8f02be",
   "outputs": [
    {
     "name": "stdout",
     "output_type": "stream",
     "text": [
      "\n",
      "Extracted Data:\n"
     ]
    }
   ],
   "execution_count": 3
  },
  {
   "metadata": {
    "ExecuteTime": {
     "end_time": "2025-02-13T06:35:01.430752Z",
     "start_time": "2025-02-13T06:34:26.837470Z"
    }
   },
   "cell_type": "code",
   "source": [
    "import requests\n",
    "import time\n",
    "from bs4 import BeautifulSoup\n",
    "from serpapi import GoogleSearch\n",
    "\n",
    "def search_google(query, api_key, num_results=5):\n",
    "    try:\n",
    "        params = {\"q\": query, \"num\": num_results, \"api_key\": api_key}\n",
    "        search = GoogleSearch(params)\n",
    "        results = search.get_dict()\n",
    "        return [result[\"link\"] for result in results.get(\"organic_results\", [])]\n",
    "    except Exception as e:\n",
    "        print(f\"❌ Error in Google Search: {e}\")\n",
    "        return []\n",
    "\n",
    "def crawl_website(url):\n",
    "    try:\n",
    "        headers = {\"User-Agent\": \"Mozilla/5.0\"}\n",
    "        response = requests.get(url, headers=headers, timeout=5)\n",
    "        response.raise_for_status()\n",
    "        soup = BeautifulSoup(response.text, \"html.parser\")\n",
    "        text = \" \".join([p.get_text(strip=True) for p in soup.find_all(\"p\")])\n",
    "        return text[:2000]  # محدود کردن به ۲۰۰۰ کاراکتر\n",
    "    except requests.RequestException as e:\n",
    "        print(f\"Error crawling {url}: {e}\")\n",
    "        return None\n",
    "\n",
    "def main():\n",
    "    query = input(\"Enter your question: \")\n",
    "    api_key = input(\"Enter your SerpAPI key: \").strip()\n",
    "\n",
    "    if not api_key:\n",
    "        print(\"❌ لطفاً API Key خود را وارد کنید!\")\n",
    "        return\n",
    "\n",
    "    urls = search_google(query, api_key)\n",
    "    if not urls:\n",
    "        print(\"❌ هیچ نتیجه‌ای پیدا نشد.\")\n",
    "        return\n",
    "\n",
    "    data = {}\n",
    "    for url in urls:\n",
    "        print(f\"Crawling: {url}\")\n",
    "        text = crawl_website(url)\n",
    "        if text:\n",
    "            data[url] = text\n",
    "        time.sleep(2)  # جلوگیری از بلاک شدن\n",
    "\n",
    "    # ذخیره نتایج در فایل\n",
    "    with open(\"output.txt\", \"w\", encoding=\"utf-8\") as f:\n",
    "        for url, content in data.items():\n",
    "            f.write(f\"{url}:\\n{content}\\n\\n\")\n",
    "    print(\"✅ نتایج در 'output.txt' ذخیره شد.\")\n",
    "\n",
    "if __name__ == \"__main__\":\n",
    "    main()\n"
   ],
   "id": "3cb5e5acb37aab72",
   "outputs": [
    {
     "name": "stdout",
     "output_type": "stream",
     "text": [
      "Crawling: https://ensani.ir/fa/article/83978/%D8%AE%D9%84%DB%8C%D9%81%D9%87-%D8%B3%D9%84%D8%B7%D8%A7%D9%86-%D8%B3%D9%84%D8%B7%D8%A7%D9%86-%D8%A7%D9%84%D8%B9%D9%84%D9%85%D8%A7-%D9%81%D9%82%DB%8C%D9%87-%D9%88-%D9%88%D8%B2%DB%8C%D8%B1-%D8%A7%D8%B9%D8%B8%D9%85-%D8%B9%D8%B5%D8%B1-%D8%B5%D9%81%D9%88%D9%89\n",
      "Crawling: https://wiki.ahlolbait.com/%D8%AE%D9%84%DB%8C%D9%81%D9%87_%D8%B3%D9%84%D8%B7%D8%A7%D9%86\n",
      "Crawling: https://fa.wikipedia.org/wiki/%D8%AE%D8%A7%D9%86%D8%AF%D8%A7%D9%86_%D8%AE%D9%84%DB%8C%D9%81%D9%87%E2%80%8C%D8%B3%D9%84%D8%B7%D8%A7%D9%86\n",
      "Crawling: https://article.bsfe.ir/ArticleShow.aspx?rs=326\n",
      "Crawling: https://fa.wikipedia.org/wiki/%D8%B9%D9%84%D8%A7%D8%A1%D8%A7%D9%84%D8%AF%DB%8C%D9%86_%D8%AD%D8%B3%DB%8C%D9%86_%D8%AE%D9%84%DB%8C%D9%81%D9%87_%D8%B3%D9%84%D8%B7%D8%A7%D9%86\n",
      "✅ نتایج در 'output.txt' ذخیره شد.\n"
     ]
    }
   ],
   "execution_count": 7
  },
  {
   "metadata": {},
   "cell_type": "code",
   "outputs": [],
   "execution_count": null,
   "source": "",
   "id": "93504885ecf37cbd"
  }
 ],
 "metadata": {
  "kernelspec": {
   "display_name": "Python 3",
   "language": "python",
   "name": "python3"
  },
  "language_info": {
   "codemirror_mode": {
    "name": "ipython",
    "version": 2
   },
   "file_extension": ".py",
   "mimetype": "text/x-python",
   "name": "python",
   "nbconvert_exporter": "python",
   "pygments_lexer": "ipython2",
   "version": "2.7.6"
  }
 },
 "nbformat": 4,
 "nbformat_minor": 5
}
